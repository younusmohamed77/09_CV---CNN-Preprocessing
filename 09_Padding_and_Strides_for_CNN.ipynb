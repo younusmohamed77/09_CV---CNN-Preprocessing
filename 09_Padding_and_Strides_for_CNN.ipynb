{
  "nbformat": 4,
  "nbformat_minor": 0,
  "metadata": {
    "colab": {
      "provenance": [],
      "gpuType": "T4"
    },
    "kernelspec": {
      "name": "python3",
      "display_name": "Python 3"
    },
    "language_info": {
      "name": "python"
    },
    "accelerator": "GPU"
  },
  "cells": [
    {
      "cell_type": "markdown",
      "source": [
        "- Import the necessary libraries\n",
        "- Add the dataset - MNIST\n",
        "- Build the CNN model without padding\n",
        "  - 28 x 28 x 1 image with 32 3 x 3 kernels\n",
        "- Flatten the image array\n",
        "- Add MLP over the flattened array\n",
        "- Get the model summary\n",
        "- Second time building the same netwrok with padding = 'same', one layer of padding.\n",
        "  - We get same structure in the output\n",
        "- Adding strides = 1 - no difference and strides = 2 - huge difference\n",
        "\n"
      ],
      "metadata": {
        "id": "Rd8Zdld0tQdD"
      }
    },
    {
      "cell_type": "code",
      "execution_count": 13,
      "metadata": {
        "id": "eOyRBRZStMf-"
      },
      "outputs": [],
      "source": [
        "import matplotlib.pyplot as plt\n",
        "import tensorflow as tf\n",
        "\n",
        "from tensorflow import keras\n",
        "from keras import Sequential\n",
        "from keras.datasets import mnist\n",
        "from keras.layers import Dense, Flatten, Conv2D, BatchNormalization"
      ]
    },
    {
      "cell_type": "code",
      "source": [
        "(x_train, y_train), (x_test,y_test) = mnist.load_data()"
      ],
      "metadata": {
        "colab": {
          "base_uri": "https://localhost:8080/"
        },
        "id": "PYMd9hgOuTMk",
        "outputId": "407bebe0-03f6-43b5-da49-cc80eb97f146"
      },
      "execution_count": 2,
      "outputs": [
        {
          "output_type": "stream",
          "name": "stdout",
          "text": [
            "Downloading data from https://storage.googleapis.com/tensorflow/tf-keras-datasets/mnist.npz\n",
            "11490434/11490434 [==============================] - 0s 0us/step\n"
          ]
        }
      ]
    },
    {
      "cell_type": "code",
      "source": [
        "input_shape = (28, 28, 1)"
      ],
      "metadata": {
        "id": "CGiXaoFMxgEC"
      },
      "execution_count": 7,
      "outputs": []
    },
    {
      "cell_type": "code",
      "source": [
        "model = Sequential()\n",
        "# CNN\n",
        "model.add(Conv2D(32, kernel_size = (3,3), padding = 'valid', activation = 'relu', input_shape = (28, 28, 1)))\n",
        "model.add(Conv2D(32, kernel_size = (3, 3), padding = 'valid', activation = 'relu'))\n",
        "model.add(Conv2D(32, kernel_size = (3, 3), padding = 'valid', activation = 'relu'))\n",
        "# padding = 'valid' means no padding\n",
        "# 32 is the number of kernels which is 3 x 3\n",
        "# We are feeding this model to a MLP\n",
        "\n",
        "# Below is the normal MLP\n",
        "model.add(Flatten())\n",
        "model.add(Dense(128, activation = 'relu'))\n",
        "model.add(Dense(10, activation = 'softmax'))\n",
        "model.summary()"
      ],
      "metadata": {
        "colab": {
          "base_uri": "https://localhost:8080/"
        },
        "id": "7vR_Lu5FuRc5",
        "outputId": "9349214a-ef42-4886-eb51-1eab929aade3"
      },
      "execution_count": 9,
      "outputs": [
        {
          "output_type": "stream",
          "name": "stdout",
          "text": [
            "Model: \"sequential_4\"\n",
            "_________________________________________________________________\n",
            " Layer (type)                Output Shape              Param #   \n",
            "=================================================================\n",
            " conv2d_4 (Conv2D)           (None, 26, 26, 32)        320       \n",
            "                                                                 \n",
            " conv2d_5 (Conv2D)           (None, 24, 24, 32)        9248      \n",
            "                                                                 \n",
            " conv2d_6 (Conv2D)           (None, 22, 22, 32)        9248      \n",
            "                                                                 \n",
            " flatten (Flatten)           (None, 15488)             0         \n",
            "                                                                 \n",
            " dense (Dense)               (None, 128)               1982592   \n",
            "                                                                 \n",
            " dense_1 (Dense)             (None, 10)                1290      \n",
            "                                                                 \n",
            "=================================================================\n",
            "Total params: 2002698 (7.64 MB)\n",
            "Trainable params: 2002698 (7.64 MB)\n",
            "Non-trainable params: 0 (0.00 Byte)\n",
            "_________________________________________________________________\n"
          ]
        }
      ]
    },
    {
      "cell_type": "code",
      "source": [
        "model2 = Sequential()\n",
        "# CNN\n",
        "model2.add(Conv2D(32, kernel_size = (3,3), padding = 'same', activation = 'relu', input_shape = (28, 28, 1)))\n",
        "model2.add(Conv2D(32, kernel_size = (3, 3), padding = 'same', activation = 'relu'))\n",
        "model2.add(Conv2D(32, kernel_size = (3, 3), padding = 'same', activation = 'relu'))\n",
        "# padding = 'same' means one layer of padding\n",
        "# 32 is the number of kernels which is 3 x 3\n",
        "# We are feeding this model to a MLP\n",
        "\n",
        "# Below is the normal MLP\n",
        "model2.add(Flatten())\n",
        "model2.add(Dense(128, activation = 'relu'))\n",
        "model2.add(Dense(10, activation = 'softmax'))\n",
        "model2.summary()"
      ],
      "metadata": {
        "colab": {
          "base_uri": "https://localhost:8080/"
        },
        "id": "lnDdfbgQxHKB",
        "outputId": "cf2f08a6-5a86-492b-e93b-e962eed38c7e"
      },
      "execution_count": 10,
      "outputs": [
        {
          "output_type": "stream",
          "name": "stdout",
          "text": [
            "Model: \"sequential_5\"\n",
            "_________________________________________________________________\n",
            " Layer (type)                Output Shape              Param #   \n",
            "=================================================================\n",
            " conv2d_7 (Conv2D)           (None, 28, 28, 32)        320       \n",
            "                                                                 \n",
            " conv2d_8 (Conv2D)           (None, 28, 28, 32)        9248      \n",
            "                                                                 \n",
            " conv2d_9 (Conv2D)           (None, 28, 28, 32)        9248      \n",
            "                                                                 \n",
            " flatten_1 (Flatten)         (None, 25088)             0         \n",
            "                                                                 \n",
            " dense_2 (Dense)             (None, 128)               3211392   \n",
            "                                                                 \n",
            " dense_3 (Dense)             (None, 10)                1290      \n",
            "                                                                 \n",
            "=================================================================\n",
            "Total params: 3231498 (12.33 MB)\n",
            "Trainable params: 3231498 (12.33 MB)\n",
            "Non-trainable params: 0 (0.00 Byte)\n",
            "_________________________________________________________________\n"
          ]
        }
      ]
    },
    {
      "cell_type": "code",
      "source": [
        "model3 = Sequential()\n",
        "# CNN\n",
        "model3.add(Conv2D(32, kernel_size = (3,3), padding = 'same', activation = 'relu', input_shape = (28, 28, 1)))\n",
        "model3.add(BatchNormalization())\n",
        "model3.add(Conv2D(32, kernel_size = (3, 3), padding = 'same', activation = 'relu'))\n",
        "model3.add(BatchNormalization())\n",
        "model3.add(Conv2D(32, kernel_size = (3, 3), padding = 'same', activation = 'relu'))\n",
        "model3.add(BatchNormalization())\n",
        "# padding = 'same' means one layer of padding\n",
        "# 32 is the number of kernels which is 3 x 3\n",
        "# We are feeding this model to a MLP\n",
        "\n",
        "# Below is the normal MLP\n",
        "model3.add(Flatten())\n",
        "model3.add(Dense(128, activation = 'relu'))\n",
        "model3.add(BatchNormalization())\n",
        "model3.add(Dense(10, activation = 'softmax'))\n",
        "model3.summary()\n",
        "\n",
        "# we get non trainable parameters because we have added the Batch normalization"
      ],
      "metadata": {
        "colab": {
          "base_uri": "https://localhost:8080/"
        },
        "id": "YtFRObiOyx1O",
        "outputId": "c7e05df1-5539-44ab-f739-07d895b5bd05"
      },
      "execution_count": 14,
      "outputs": [
        {
          "output_type": "stream",
          "name": "stdout",
          "text": [
            "Model: \"sequential_8\"\n",
            "_________________________________________________________________\n",
            " Layer (type)                Output Shape              Param #   \n",
            "=================================================================\n",
            " conv2d_12 (Conv2D)          (None, 28, 28, 32)        320       \n",
            "                                                                 \n",
            " batch_normalization (Batch  (None, 28, 28, 32)        128       \n",
            " Normalization)                                                  \n",
            "                                                                 \n",
            " conv2d_13 (Conv2D)          (None, 28, 28, 32)        9248      \n",
            "                                                                 \n",
            " batch_normalization_1 (Bat  (None, 28, 28, 32)        128       \n",
            " chNormalization)                                                \n",
            "                                                                 \n",
            " conv2d_14 (Conv2D)          (None, 28, 28, 32)        9248      \n",
            "                                                                 \n",
            " batch_normalization_2 (Bat  (None, 28, 28, 32)        128       \n",
            " chNormalization)                                                \n",
            "                                                                 \n",
            " flatten_2 (Flatten)         (None, 25088)             0         \n",
            "                                                                 \n",
            " dense_4 (Dense)             (None, 128)               3211392   \n",
            "                                                                 \n",
            " batch_normalization_3 (Bat  (None, 128)               512       \n",
            " chNormalization)                                                \n",
            "                                                                 \n",
            " dense_5 (Dense)             (None, 10)                1290      \n",
            "                                                                 \n",
            "=================================================================\n",
            "Total params: 3232394 (12.33 MB)\n",
            "Trainable params: 3231946 (12.33 MB)\n",
            "Non-trainable params: 448 (1.75 KB)\n",
            "_________________________________________________________________\n"
          ]
        }
      ]
    },
    {
      "cell_type": "code",
      "source": [
        "model4 = Sequential()\n",
        "# CNN\n",
        "model4.add(Conv2D(32, kernel_size = (3,3), strides = 1, padding = 'same', activation = 'relu', input_shape = (28, 28, 1)))\n",
        "model4.add(BatchNormalization())\n",
        "model4.add(Conv2D(32, kernel_size = (3, 3), strides = 1,padding = 'same', activation = 'relu'))\n",
        "model4.add(BatchNormalization())\n",
        "model4.add(Conv2D(32, kernel_size = (3, 3), strides = 1, padding = 'same', activation = 'relu'))\n",
        "model4.add(BatchNormalization())\n",
        "# padding = 'same' means one layer of padding\n",
        "# 32 is the number of kernels which is 3 x 3\n",
        "# We are feeding this model to a MLP\n",
        "# Given strides = 1 no difference from above in parameters\n",
        "\n",
        "# Below is the normal MLP\n",
        "model4.add(Flatten())\n",
        "model4.add(Dense(128, activation = 'relu'))\n",
        "model4.add(BatchNormalization())\n",
        "model4.add(Dense(10, activation = 'softmax'))\n",
        "model4.summary()\n",
        "\n",
        "# we get non trainable parameters because we have added the Batch normalization"
      ],
      "metadata": {
        "colab": {
          "base_uri": "https://localhost:8080/"
        },
        "id": "0bPi31FczlFC",
        "outputId": "1befbe04-36a2-411d-bcb4-c05db0215b16"
      },
      "execution_count": 15,
      "outputs": [
        {
          "output_type": "stream",
          "name": "stdout",
          "text": [
            "Model: \"sequential_9\"\n",
            "_________________________________________________________________\n",
            " Layer (type)                Output Shape              Param #   \n",
            "=================================================================\n",
            " conv2d_15 (Conv2D)          (None, 28, 28, 32)        320       \n",
            "                                                                 \n",
            " batch_normalization_4 (Bat  (None, 28, 28, 32)        128       \n",
            " chNormalization)                                                \n",
            "                                                                 \n",
            " conv2d_16 (Conv2D)          (None, 28, 28, 32)        9248      \n",
            "                                                                 \n",
            " batch_normalization_5 (Bat  (None, 28, 28, 32)        128       \n",
            " chNormalization)                                                \n",
            "                                                                 \n",
            " conv2d_17 (Conv2D)          (None, 28, 28, 32)        9248      \n",
            "                                                                 \n",
            " batch_normalization_6 (Bat  (None, 28, 28, 32)        128       \n",
            " chNormalization)                                                \n",
            "                                                                 \n",
            " flatten_3 (Flatten)         (None, 25088)             0         \n",
            "                                                                 \n",
            " dense_6 (Dense)             (None, 128)               3211392   \n",
            "                                                                 \n",
            " batch_normalization_7 (Bat  (None, 128)               512       \n",
            " chNormalization)                                                \n",
            "                                                                 \n",
            " dense_7 (Dense)             (None, 10)                1290      \n",
            "                                                                 \n",
            "=================================================================\n",
            "Total params: 3232394 (12.33 MB)\n",
            "Trainable params: 3231946 (12.33 MB)\n",
            "Non-trainable params: 448 (1.75 KB)\n",
            "_________________________________________________________________\n"
          ]
        }
      ]
    },
    {
      "cell_type": "code",
      "source": [
        "model5 = Sequential()\n",
        "# CNN\n",
        "model5.add(Conv2D(32, kernel_size = (3,3), strides = 2, padding = 'same', activation = 'relu', input_shape = (28, 28, 1)))\n",
        "model5.add(BatchNormalization())\n",
        "model5.add(Conv2D(32, kernel_size = (3, 3), strides = 2,padding = 'same', activation = 'relu'))\n",
        "model5.add(BatchNormalization())\n",
        "model5.add(Conv2D(32, kernel_size = (3, 3), strides = 2, padding = 'same', activation = 'relu'))\n",
        "model5.add(BatchNormalization())\n",
        "# padding = 'same' means one layer of padding\n",
        "# 32 is the number of kernels which is 3 x 3\n",
        "# We are feeding this model to a MLP\n",
        "# Given strides = 2 huge difference from above in parameters\n",
        "\n",
        "# Below is the normal MLP\n",
        "model5.add(Flatten())\n",
        "model5.add(Dense(128, activation = 'relu'))\n",
        "model5.add(BatchNormalization())\n",
        "model5.add(Dense(10, activation = 'softmax'))\n",
        "model5.summary()\n",
        "\n",
        "# we get non trainable parameters because we have added the Batch normalization"
      ],
      "metadata": {
        "colab": {
          "base_uri": "https://localhost:8080/"
        },
        "id": "37XWAt3P1sT9",
        "outputId": "8b49793f-3325-4ba4-ca44-68e5dadab37e"
      },
      "execution_count": 17,
      "outputs": [
        {
          "output_type": "stream",
          "name": "stdout",
          "text": [
            "Model: \"sequential_11\"\n",
            "_________________________________________________________________\n",
            " Layer (type)                Output Shape              Param #   \n",
            "=================================================================\n",
            " conv2d_21 (Conv2D)          (None, 14, 14, 32)        320       \n",
            "                                                                 \n",
            " batch_normalization_12 (Ba  (None, 14, 14, 32)        128       \n",
            " tchNormalization)                                               \n",
            "                                                                 \n",
            " conv2d_22 (Conv2D)          (None, 7, 7, 32)          9248      \n",
            "                                                                 \n",
            " batch_normalization_13 (Ba  (None, 7, 7, 32)          128       \n",
            " tchNormalization)                                               \n",
            "                                                                 \n",
            " conv2d_23 (Conv2D)          (None, 4, 4, 32)          9248      \n",
            "                                                                 \n",
            " batch_normalization_14 (Ba  (None, 4, 4, 32)          128       \n",
            " tchNormalization)                                               \n",
            "                                                                 \n",
            " flatten_5 (Flatten)         (None, 512)               0         \n",
            "                                                                 \n",
            " dense_10 (Dense)            (None, 128)               65664     \n",
            "                                                                 \n",
            " batch_normalization_15 (Ba  (None, 128)               512       \n",
            " tchNormalization)                                               \n",
            "                                                                 \n",
            " dense_11 (Dense)            (None, 10)                1290      \n",
            "                                                                 \n",
            "=================================================================\n",
            "Total params: 86666 (338.54 KB)\n",
            "Trainable params: 86218 (336.79 KB)\n",
            "Non-trainable params: 448 (1.75 KB)\n",
            "_________________________________________________________________\n"
          ]
        }
      ]
    },
    {
      "cell_type": "code",
      "source": [
        "model6 = Sequential()\n",
        "# CNN\n",
        "model6.add(Conv2D(32, kernel_size = (3,3), strides = 2, padding = 'valid', activation = 'relu', input_shape = (28, 28, 1)))\n",
        "model6.add(BatchNormalization())\n",
        "model6.add(Conv2D(32, kernel_size = (3, 3), strides = 2,padding = 'valid', activation = 'relu'))\n",
        "model6.add(BatchNormalization())\n",
        "model6.add(Conv2D(32, kernel_size = (3, 3), strides = 2, padding = 'valid', activation = 'relu'))\n",
        "model6.add(BatchNormalization())\n",
        "# padding = 'same' means one layer of padding\n",
        "# 32 is the number of kernels which is 3 x 3\n",
        "# We are feeding this model to a MLP\n",
        "# Given strides = 2 huge difference from above in parameters\n",
        "# No point in usung padding and stride together\n",
        "\n",
        "# Below is the normal MLP\n",
        "model6.add(Flatten())\n",
        "model6.add(Dense(128, activation = 'relu'))\n",
        "model6.add(BatchNormalization())\n",
        "model6.add(Dense(10, activation = 'softmax'))\n",
        "model6.summary()\n",
        "\n",
        "# we get non trainable parameters because we have added the Batch normalization"
      ],
      "metadata": {
        "colab": {
          "base_uri": "https://localhost:8080/"
        },
        "id": "wBUr5qLc2oxQ",
        "outputId": "f27421e3-6ff2-4e34-be2d-defd68563633"
      },
      "execution_count": 18,
      "outputs": [
        {
          "output_type": "stream",
          "name": "stdout",
          "text": [
            "Model: \"sequential_12\"\n",
            "_________________________________________________________________\n",
            " Layer (type)                Output Shape              Param #   \n",
            "=================================================================\n",
            " conv2d_24 (Conv2D)          (None, 13, 13, 32)        320       \n",
            "                                                                 \n",
            " batch_normalization_16 (Ba  (None, 13, 13, 32)        128       \n",
            " tchNormalization)                                               \n",
            "                                                                 \n",
            " conv2d_25 (Conv2D)          (None, 6, 6, 32)          9248      \n",
            "                                                                 \n",
            " batch_normalization_17 (Ba  (None, 6, 6, 32)          128       \n",
            " tchNormalization)                                               \n",
            "                                                                 \n",
            " conv2d_26 (Conv2D)          (None, 2, 2, 32)          9248      \n",
            "                                                                 \n",
            " batch_normalization_18 (Ba  (None, 2, 2, 32)          128       \n",
            " tchNormalization)                                               \n",
            "                                                                 \n",
            " flatten_6 (Flatten)         (None, 128)               0         \n",
            "                                                                 \n",
            " dense_12 (Dense)            (None, 128)               16512     \n",
            "                                                                 \n",
            " batch_normalization_19 (Ba  (None, 128)               512       \n",
            " tchNormalization)                                               \n",
            "                                                                 \n",
            " dense_13 (Dense)            (None, 10)                1290      \n",
            "                                                                 \n",
            "=================================================================\n",
            "Total params: 37514 (146.54 KB)\n",
            "Trainable params: 37066 (144.79 KB)\n",
            "Non-trainable params: 448 (1.75 KB)\n",
            "_________________________________________________________________\n"
          ]
        }
      ]
    },
    {
      "cell_type": "code",
      "source": [],
      "metadata": {
        "id": "s5kGK-x-3H_V"
      },
      "execution_count": null,
      "outputs": []
    }
  ]
}