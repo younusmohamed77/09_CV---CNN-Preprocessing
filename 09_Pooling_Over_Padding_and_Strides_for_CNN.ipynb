{
  "nbformat": 4,
  "nbformat_minor": 0,
  "metadata": {
    "colab": {
      "provenance": [],
      "gpuType": "T4"
    },
    "kernelspec": {
      "name": "python3",
      "display_name": "Python 3"
    },
    "language_info": {
      "name": "python"
    },
    "accelerator": "GPU"
  },
  "cells": [
    {
      "cell_type": "markdown",
      "source": [
        "- Import the necessary libraries\n",
        "- Add the dataset - MNIST\n",
        "- Build the CNN model without padding\n",
        "  - 28 x 28 x 1 image with 32 3 x 3 kernels\n",
        "- Flatten the image array\n",
        "- Add MLP over the flattened array\n",
        "- Get the model summary\n",
        "- Second time building the same netwrok with padding = 'same', one layer of padding.\n",
        "  - We get same structure in the output\n",
        "- Adding strides = 1 - no difference and strides = 2 - huge difference\n",
        "- Adding a max pooling layer\n",
        "  - Added pooling layer after each Conv layer with default options - strides = 2 and kernel size = 2 x 2\n",
        "- Compile the model\n",
        "- Fit the model\n",
        "\n"
      ],
      "metadata": {
        "id": "Rd8Zdld0tQdD"
      }
    },
    {
      "cell_type": "code",
      "execution_count": 1,
      "metadata": {
        "id": "eOyRBRZStMf-"
      },
      "outputs": [],
      "source": [
        "import matplotlib.pyplot as plt\n",
        "import tensorflow as tf\n",
        "\n",
        "from tensorflow import keras\n",
        "from keras import Sequential\n",
        "from keras.datasets import mnist\n",
        "from keras.layers import Dense, Flatten, Conv2D, BatchNormalization, MaxPooling2D\n",
        "# from keras.layers import * (when we know all the functions in keras.layers)"
      ]
    },
    {
      "cell_type": "code",
      "source": [
        "(x_train, y_train), (x_test,y_test) = mnist.load_data()"
      ],
      "metadata": {
        "colab": {
          "base_uri": "https://localhost:8080/"
        },
        "id": "PYMd9hgOuTMk",
        "outputId": "86894bbf-c11a-46d9-a049-333cbc83a069"
      },
      "execution_count": 2,
      "outputs": [
        {
          "output_type": "stream",
          "name": "stdout",
          "text": [
            "Downloading data from https://storage.googleapis.com/tensorflow/tf-keras-datasets/mnist.npz\n",
            "11490434/11490434 [==============================] - 1s 0us/step\n"
          ]
        }
      ]
    },
    {
      "cell_type": "code",
      "source": [
        "x_train = x_train / 255.0\n",
        "x_test = x_test / 255.0\n",
        "\n",
        "y_train = keras.utils.to_categorical(y_train)\n",
        "y_test = keras.utils.to_categorical(y_test)"
      ],
      "metadata": {
        "id": "kdAwH6nWmRCQ"
      },
      "execution_count": 3,
      "outputs": []
    },
    {
      "cell_type": "code",
      "source": [
        "input_shape = (28, 28, 1)"
      ],
      "metadata": {
        "id": "CGiXaoFMxgEC"
      },
      "execution_count": 4,
      "outputs": []
    },
    {
      "cell_type": "code",
      "source": [
        "model = Sequential()\n",
        "# CNN\n",
        "model.add(Conv2D(32, kernel_size = (3,3), padding = 'valid', activation = 'relu', input_shape = (28, 28, 1)))\n",
        "model.add(Conv2D(32, kernel_size = (3, 3), padding = 'valid', activation = 'relu'))\n",
        "model.add(Conv2D(32, kernel_size = (3, 3), padding = 'valid', activation = 'relu'))\n",
        "# padding = 'valid' means no padding\n",
        "# 32 is the number of kernels which is 3 x 3\n",
        "# We are feeding this model to a MLP\n",
        "\n",
        "# Below is the normal MLP\n",
        "model.add(Flatten())\n",
        "model.add(Dense(128, activation = 'relu'))\n",
        "model.add(Dense(10, activation = 'softmax'))\n",
        "model.summary()"
      ],
      "metadata": {
        "colab": {
          "base_uri": "https://localhost:8080/"
        },
        "id": "7vR_Lu5FuRc5",
        "outputId": "13154978-fffa-411e-e340-0fc918243c9b"
      },
      "execution_count": 5,
      "outputs": [
        {
          "output_type": "stream",
          "name": "stdout",
          "text": [
            "Model: \"sequential\"\n",
            "_________________________________________________________________\n",
            " Layer (type)                Output Shape              Param #   \n",
            "=================================================================\n",
            " conv2d (Conv2D)             (None, 26, 26, 32)        320       \n",
            "                                                                 \n",
            " conv2d_1 (Conv2D)           (None, 24, 24, 32)        9248      \n",
            "                                                                 \n",
            " conv2d_2 (Conv2D)           (None, 22, 22, 32)        9248      \n",
            "                                                                 \n",
            " flatten (Flatten)           (None, 15488)             0         \n",
            "                                                                 \n",
            " dense (Dense)               (None, 128)               1982592   \n",
            "                                                                 \n",
            " dense_1 (Dense)             (None, 10)                1290      \n",
            "                                                                 \n",
            "=================================================================\n",
            "Total params: 2002698 (7.64 MB)\n",
            "Trainable params: 2002698 (7.64 MB)\n",
            "Non-trainable params: 0 (0.00 Byte)\n",
            "_________________________________________________________________\n"
          ]
        }
      ]
    },
    {
      "cell_type": "code",
      "source": [
        "model2 = Sequential()\n",
        "# CNN\n",
        "model2.add(Conv2D(32, kernel_size = (3,3), padding = 'same', activation = 'relu', input_shape = (28, 28, 1)))\n",
        "model2.add(Conv2D(32, kernel_size = (3, 3), padding = 'same', activation = 'relu'))\n",
        "model2.add(Conv2D(32, kernel_size = (3, 3), padding = 'same', activation = 'relu'))\n",
        "# padding = 'same' means one layer of padding\n",
        "# 32 is the number of kernels which is 3 x 3\n",
        "# We are feeding this model to a MLP\n",
        "\n",
        "# Below is the normal MLP\n",
        "model2.add(Flatten())\n",
        "model2.add(Dense(128, activation = 'relu'))\n",
        "model2.add(Dense(10, activation = 'softmax'))\n",
        "model2.summary()"
      ],
      "metadata": {
        "colab": {
          "base_uri": "https://localhost:8080/"
        },
        "id": "lnDdfbgQxHKB",
        "outputId": "90d8ae12-6ffe-4c67-c7da-30b8f6f4a347"
      },
      "execution_count": 6,
      "outputs": [
        {
          "output_type": "stream",
          "name": "stdout",
          "text": [
            "Model: \"sequential_1\"\n",
            "_________________________________________________________________\n",
            " Layer (type)                Output Shape              Param #   \n",
            "=================================================================\n",
            " conv2d_3 (Conv2D)           (None, 28, 28, 32)        320       \n",
            "                                                                 \n",
            " conv2d_4 (Conv2D)           (None, 28, 28, 32)        9248      \n",
            "                                                                 \n",
            " conv2d_5 (Conv2D)           (None, 28, 28, 32)        9248      \n",
            "                                                                 \n",
            " flatten_1 (Flatten)         (None, 25088)             0         \n",
            "                                                                 \n",
            " dense_2 (Dense)             (None, 128)               3211392   \n",
            "                                                                 \n",
            " dense_3 (Dense)             (None, 10)                1290      \n",
            "                                                                 \n",
            "=================================================================\n",
            "Total params: 3231498 (12.33 MB)\n",
            "Trainable params: 3231498 (12.33 MB)\n",
            "Non-trainable params: 0 (0.00 Byte)\n",
            "_________________________________________________________________\n"
          ]
        }
      ]
    },
    {
      "cell_type": "code",
      "source": [
        "model3 = Sequential()\n",
        "# CNN\n",
        "model3.add(Conv2D(32, kernel_size = (3,3), padding = 'same', activation = 'relu', input_shape = (28, 28, 1)))\n",
        "model3.add(BatchNormalization())\n",
        "model3.add(Conv2D(32, kernel_size = (3, 3), padding = 'same', activation = 'relu'))\n",
        "model3.add(BatchNormalization())\n",
        "model3.add(Conv2D(32, kernel_size = (3, 3), padding = 'same', activation = 'relu'))\n",
        "model3.add(BatchNormalization())\n",
        "# padding = 'same' means one layer of padding\n",
        "# 32 is the number of kernels which is 3 x 3\n",
        "# We are feeding this model to a MLP\n",
        "\n",
        "# Below is the normal MLP\n",
        "model3.add(Flatten())\n",
        "model3.add(Dense(128, activation = 'relu'))\n",
        "model3.add(BatchNormalization())\n",
        "model3.add(Dense(10, activation = 'softmax'))\n",
        "model3.summary()\n",
        "\n",
        "# we get non trainable parameters because we have added the Batch normalization"
      ],
      "metadata": {
        "colab": {
          "base_uri": "https://localhost:8080/"
        },
        "id": "YtFRObiOyx1O",
        "outputId": "6b0522f6-ab17-4c37-e38e-7ff7ebece0f9"
      },
      "execution_count": 7,
      "outputs": [
        {
          "output_type": "stream",
          "name": "stdout",
          "text": [
            "Model: \"sequential_2\"\n",
            "_________________________________________________________________\n",
            " Layer (type)                Output Shape              Param #   \n",
            "=================================================================\n",
            " conv2d_6 (Conv2D)           (None, 28, 28, 32)        320       \n",
            "                                                                 \n",
            " batch_normalization (Batch  (None, 28, 28, 32)        128       \n",
            " Normalization)                                                  \n",
            "                                                                 \n",
            " conv2d_7 (Conv2D)           (None, 28, 28, 32)        9248      \n",
            "                                                                 \n",
            " batch_normalization_1 (Bat  (None, 28, 28, 32)        128       \n",
            " chNormalization)                                                \n",
            "                                                                 \n",
            " conv2d_8 (Conv2D)           (None, 28, 28, 32)        9248      \n",
            "                                                                 \n",
            " batch_normalization_2 (Bat  (None, 28, 28, 32)        128       \n",
            " chNormalization)                                                \n",
            "                                                                 \n",
            " flatten_2 (Flatten)         (None, 25088)             0         \n",
            "                                                                 \n",
            " dense_4 (Dense)             (None, 128)               3211392   \n",
            "                                                                 \n",
            " batch_normalization_3 (Bat  (None, 128)               512       \n",
            " chNormalization)                                                \n",
            "                                                                 \n",
            " dense_5 (Dense)             (None, 10)                1290      \n",
            "                                                                 \n",
            "=================================================================\n",
            "Total params: 3232394 (12.33 MB)\n",
            "Trainable params: 3231946 (12.33 MB)\n",
            "Non-trainable params: 448 (1.75 KB)\n",
            "_________________________________________________________________\n"
          ]
        }
      ]
    },
    {
      "cell_type": "code",
      "source": [
        "model4 = Sequential()\n",
        "# CNN\n",
        "model4.add(Conv2D(32, kernel_size = (3,3), strides = 1, padding = 'same', activation = 'relu', input_shape = (28, 28, 1)))\n",
        "model4.add(BatchNormalization())\n",
        "model4.add(Conv2D(32, kernel_size = (3, 3), strides = 1,padding = 'same', activation = 'relu'))\n",
        "model4.add(BatchNormalization())\n",
        "model4.add(Conv2D(32, kernel_size = (3, 3), strides = 1, padding = 'same', activation = 'relu'))\n",
        "model4.add(BatchNormalization())\n",
        "# padding = 'same' means one layer of padding\n",
        "# 32 is the number of kernels which is 3 x 3\n",
        "# We are feeding this model to a MLP\n",
        "# Given strides = 1 no difference from above in parameters\n",
        "\n",
        "# Below is the normal MLP\n",
        "model4.add(Flatten())\n",
        "model4.add(Dense(128, activation = 'relu'))\n",
        "model4.add(BatchNormalization())\n",
        "model4.add(Dense(10, activation = 'softmax'))\n",
        "model4.summary()\n",
        "\n",
        "# we get non trainable parameters because we have added the Batch normalization"
      ],
      "metadata": {
        "colab": {
          "base_uri": "https://localhost:8080/"
        },
        "id": "0bPi31FczlFC",
        "outputId": "98ce6940-3514-4f1f-f801-a179649a467a"
      },
      "execution_count": 8,
      "outputs": [
        {
          "output_type": "stream",
          "name": "stdout",
          "text": [
            "Model: \"sequential_3\"\n",
            "_________________________________________________________________\n",
            " Layer (type)                Output Shape              Param #   \n",
            "=================================================================\n",
            " conv2d_9 (Conv2D)           (None, 28, 28, 32)        320       \n",
            "                                                                 \n",
            " batch_normalization_4 (Bat  (None, 28, 28, 32)        128       \n",
            " chNormalization)                                                \n",
            "                                                                 \n",
            " conv2d_10 (Conv2D)          (None, 28, 28, 32)        9248      \n",
            "                                                                 \n",
            " batch_normalization_5 (Bat  (None, 28, 28, 32)        128       \n",
            " chNormalization)                                                \n",
            "                                                                 \n",
            " conv2d_11 (Conv2D)          (None, 28, 28, 32)        9248      \n",
            "                                                                 \n",
            " batch_normalization_6 (Bat  (None, 28, 28, 32)        128       \n",
            " chNormalization)                                                \n",
            "                                                                 \n",
            " flatten_3 (Flatten)         (None, 25088)             0         \n",
            "                                                                 \n",
            " dense_6 (Dense)             (None, 128)               3211392   \n",
            "                                                                 \n",
            " batch_normalization_7 (Bat  (None, 128)               512       \n",
            " chNormalization)                                                \n",
            "                                                                 \n",
            " dense_7 (Dense)             (None, 10)                1290      \n",
            "                                                                 \n",
            "=================================================================\n",
            "Total params: 3232394 (12.33 MB)\n",
            "Trainable params: 3231946 (12.33 MB)\n",
            "Non-trainable params: 448 (1.75 KB)\n",
            "_________________________________________________________________\n"
          ]
        }
      ]
    },
    {
      "cell_type": "code",
      "source": [
        "model5 = Sequential()\n",
        "# CNN\n",
        "model5.add(Conv2D(32, kernel_size = (3,3), strides = 2, padding = 'same', activation = 'relu', input_shape = (28, 28, 1)))\n",
        "model5.add(BatchNormalization())\n",
        "model5.add(Conv2D(32, kernel_size = (3, 3), strides = 2,padding = 'same', activation = 'relu'))\n",
        "model5.add(BatchNormalization())\n",
        "model5.add(Conv2D(32, kernel_size = (3, 3), strides = 2, padding = 'same', activation = 'relu'))\n",
        "model5.add(BatchNormalization())\n",
        "# padding = 'same' means one layer of padding\n",
        "# 32 is the number of kernels which is 3 x 3\n",
        "# We are feeding this model to a MLP\n",
        "# Given strides = 2 huge difference from above in parameters\n",
        "\n",
        "# Below is the normal MLP\n",
        "model5.add(Flatten())\n",
        "model5.add(Dense(128, activation = 'relu'))\n",
        "model5.add(BatchNormalization())\n",
        "model5.add(Dense(10, activation = 'softmax'))\n",
        "model5.summary()\n",
        "\n",
        "# we get non trainable parameters because we have added the Batch normalization"
      ],
      "metadata": {
        "colab": {
          "base_uri": "https://localhost:8080/"
        },
        "id": "37XWAt3P1sT9",
        "outputId": "689fd5ee-41a9-4429-eabf-536b75a05778"
      },
      "execution_count": 9,
      "outputs": [
        {
          "output_type": "stream",
          "name": "stdout",
          "text": [
            "Model: \"sequential_4\"\n",
            "_________________________________________________________________\n",
            " Layer (type)                Output Shape              Param #   \n",
            "=================================================================\n",
            " conv2d_12 (Conv2D)          (None, 14, 14, 32)        320       \n",
            "                                                                 \n",
            " batch_normalization_8 (Bat  (None, 14, 14, 32)        128       \n",
            " chNormalization)                                                \n",
            "                                                                 \n",
            " conv2d_13 (Conv2D)          (None, 7, 7, 32)          9248      \n",
            "                                                                 \n",
            " batch_normalization_9 (Bat  (None, 7, 7, 32)          128       \n",
            " chNormalization)                                                \n",
            "                                                                 \n",
            " conv2d_14 (Conv2D)          (None, 4, 4, 32)          9248      \n",
            "                                                                 \n",
            " batch_normalization_10 (Ba  (None, 4, 4, 32)          128       \n",
            " tchNormalization)                                               \n",
            "                                                                 \n",
            " flatten_4 (Flatten)         (None, 512)               0         \n",
            "                                                                 \n",
            " dense_8 (Dense)             (None, 128)               65664     \n",
            "                                                                 \n",
            " batch_normalization_11 (Ba  (None, 128)               512       \n",
            " tchNormalization)                                               \n",
            "                                                                 \n",
            " dense_9 (Dense)             (None, 10)                1290      \n",
            "                                                                 \n",
            "=================================================================\n",
            "Total params: 86666 (338.54 KB)\n",
            "Trainable params: 86218 (336.79 KB)\n",
            "Non-trainable params: 448 (1.75 KB)\n",
            "_________________________________________________________________\n"
          ]
        }
      ]
    },
    {
      "cell_type": "code",
      "source": [
        "model6 = Sequential()\n",
        "# CNN\n",
        "model6.add(Conv2D(32, kernel_size = (3,3), strides = 2, padding = 'valid', activation = 'relu', input_shape = (28, 28, 1)))\n",
        "model6.add(BatchNormalization())\n",
        "model6.add(Conv2D(32, kernel_size = (3, 3), strides = 2,padding = 'valid', activation = 'relu'))\n",
        "model6.add(BatchNormalization())\n",
        "model6.add(Conv2D(32, kernel_size = (3, 3), strides = 2, padding = 'valid', activation = 'relu'))\n",
        "model6.add(BatchNormalization())\n",
        "# padding = 'same' means one layer of padding\n",
        "# 32 is the number of kernels which is 3 x 3\n",
        "# We are feeding this model to a MLP\n",
        "# Given strides = 2 huge difference from above in parameters\n",
        "# No point in usung padding and stride together\n",
        "\n",
        "# Below is the normal MLP\n",
        "model6.add(Flatten())\n",
        "model6.add(Dense(128, activation = 'relu'))\n",
        "model6.add(BatchNormalization())\n",
        "model6.add(Dense(10, activation = 'softmax'))\n",
        "model6.summary()\n",
        "\n",
        "# we get non trainable parameters because we have added the Batch normalization"
      ],
      "metadata": {
        "colab": {
          "base_uri": "https://localhost:8080/"
        },
        "id": "wBUr5qLc2oxQ",
        "outputId": "057e273c-639f-4e2d-fb24-9e1901034e1d"
      },
      "execution_count": 10,
      "outputs": [
        {
          "output_type": "stream",
          "name": "stdout",
          "text": [
            "Model: \"sequential_5\"\n",
            "_________________________________________________________________\n",
            " Layer (type)                Output Shape              Param #   \n",
            "=================================================================\n",
            " conv2d_15 (Conv2D)          (None, 13, 13, 32)        320       \n",
            "                                                                 \n",
            " batch_normalization_12 (Ba  (None, 13, 13, 32)        128       \n",
            " tchNormalization)                                               \n",
            "                                                                 \n",
            " conv2d_16 (Conv2D)          (None, 6, 6, 32)          9248      \n",
            "                                                                 \n",
            " batch_normalization_13 (Ba  (None, 6, 6, 32)          128       \n",
            " tchNormalization)                                               \n",
            "                                                                 \n",
            " conv2d_17 (Conv2D)          (None, 2, 2, 32)          9248      \n",
            "                                                                 \n",
            " batch_normalization_14 (Ba  (None, 2, 2, 32)          128       \n",
            " tchNormalization)                                               \n",
            "                                                                 \n",
            " flatten_5 (Flatten)         (None, 128)               0         \n",
            "                                                                 \n",
            " dense_10 (Dense)            (None, 128)               16512     \n",
            "                                                                 \n",
            " batch_normalization_15 (Ba  (None, 128)               512       \n",
            " tchNormalization)                                               \n",
            "                                                                 \n",
            " dense_11 (Dense)            (None, 10)                1290      \n",
            "                                                                 \n",
            "=================================================================\n",
            "Total params: 37514 (146.54 KB)\n",
            "Trainable params: 37066 (144.79 KB)\n",
            "Non-trainable params: 448 (1.75 KB)\n",
            "_________________________________________________________________\n"
          ]
        }
      ]
    },
    {
      "cell_type": "markdown",
      "source": [
        "## Max pooling layer"
      ],
      "metadata": {
        "id": "dFlJAgaWdE5m"
      }
    },
    {
      "cell_type": "code",
      "source": [
        "model7 = Sequential()\n",
        "# CNN\n",
        "model7.add(Conv2D(32, kernel_size = (3,3), strides = 1, padding = 'same', activation = 'relu', input_shape = (28, 28, 1)))\n",
        "model7.add(MaxPooling2D(pool_size = (2,2), strides = 2))\n",
        "model7.add(Conv2D(32, kernel_size = (3, 3), strides = 1,padding = 'same', activation = 'relu'))\n",
        "model7.add(MaxPooling2D(pool_size = (2,2), strides = 2))\n",
        "model7.add(Conv2D(32, kernel_size = (3, 3), strides = 1, padding = 'same', activation = 'relu'))\n",
        "model7.add(MaxPooling2D(pool_size = (2,2), strides = 2))\n",
        "# padding = 'same' means one layer of padding\n",
        "# 32 is the number of kernels which is 3 x 3\n",
        "# We are feeding this model to a MLP\n",
        "# Given strides = 1 no difference from above in parameters\n",
        "# Added pooling layer after each Conv layer with default options - strides = 2 and kernel size = 2 x 2\n",
        "\n",
        "# Below is the normal MLP\n",
        "model7.add(Flatten())\n",
        "model7.add(Dense(128, activation = 'relu'))\n",
        "model7.add(Dense(10, activation = 'softmax'))\n",
        "model7.summary()\n",
        "\n",
        "# Parameter claculations formula = kernel_width x kernel_height x # of channels x # of filters + # of filters"
      ],
      "metadata": {
        "id": "s5kGK-x-3H_V",
        "colab": {
          "base_uri": "https://localhost:8080/"
        },
        "outputId": "ee5ff30f-1e45-4be1-880b-94d86b99fa82"
      },
      "execution_count": 11,
      "outputs": [
        {
          "output_type": "stream",
          "name": "stdout",
          "text": [
            "Model: \"sequential_6\"\n",
            "_________________________________________________________________\n",
            " Layer (type)                Output Shape              Param #   \n",
            "=================================================================\n",
            " conv2d_18 (Conv2D)          (None, 28, 28, 32)        320       \n",
            "                                                                 \n",
            " max_pooling2d (MaxPooling2  (None, 14, 14, 32)        0         \n",
            " D)                                                              \n",
            "                                                                 \n",
            " conv2d_19 (Conv2D)          (None, 14, 14, 32)        9248      \n",
            "                                                                 \n",
            " max_pooling2d_1 (MaxPoolin  (None, 7, 7, 32)          0         \n",
            " g2D)                                                            \n",
            "                                                                 \n",
            " conv2d_20 (Conv2D)          (None, 7, 7, 32)          9248      \n",
            "                                                                 \n",
            " max_pooling2d_2 (MaxPoolin  (None, 3, 3, 32)          0         \n",
            " g2D)                                                            \n",
            "                                                                 \n",
            " flatten_6 (Flatten)         (None, 288)               0         \n",
            "                                                                 \n",
            " dense_12 (Dense)            (None, 128)               36992     \n",
            "                                                                 \n",
            " dense_13 (Dense)            (None, 10)                1290      \n",
            "                                                                 \n",
            "=================================================================\n",
            "Total params: 57098 (223.04 KB)\n",
            "Trainable params: 57098 (223.04 KB)\n",
            "Non-trainable params: 0 (0.00 Byte)\n",
            "_________________________________________________________________\n"
          ]
        }
      ]
    },
    {
      "cell_type": "code",
      "source": [
        "model7.compile(optimizer = 'adam', loss = keras.losses.categorical_crossentropy, metrics = ['accuracy'])"
      ],
      "metadata": {
        "id": "Pni1bEQ9eTnt"
      },
      "execution_count": 12,
      "outputs": []
    },
    {
      "cell_type": "code",
      "source": [
        "history = model7.fit(x_train, y_train, batch_size = 64, epochs = 10, validation_data = (x_test, y_test))"
      ],
      "metadata": {
        "colab": {
          "base_uri": "https://localhost:8080/"
        },
        "id": "J3KM7slJlu7E",
        "outputId": "eb923bd7-6694-40fb-a6eb-5c8e81e6e2b9"
      },
      "execution_count": 13,
      "outputs": [
        {
          "output_type": "stream",
          "name": "stdout",
          "text": [
            "Epoch 1/10\n",
            "938/938 [==============================] - 10s 5ms/step - loss: 0.2033 - accuracy: 0.9373 - val_loss: 0.0682 - val_accuracy: 0.9793\n",
            "Epoch 2/10\n",
            "938/938 [==============================] - 6s 6ms/step - loss: 0.0568 - accuracy: 0.9827 - val_loss: 0.0450 - val_accuracy: 0.9864\n",
            "Epoch 3/10\n",
            "938/938 [==============================] - 5s 6ms/step - loss: 0.0406 - accuracy: 0.9873 - val_loss: 0.0336 - val_accuracy: 0.9899\n",
            "Epoch 4/10\n",
            "938/938 [==============================] - 5s 6ms/step - loss: 0.0328 - accuracy: 0.9897 - val_loss: 0.0309 - val_accuracy: 0.9896\n",
            "Epoch 5/10\n",
            "938/938 [==============================] - 5s 5ms/step - loss: 0.0272 - accuracy: 0.9915 - val_loss: 0.0355 - val_accuracy: 0.9884\n",
            "Epoch 6/10\n",
            "938/938 [==============================] - 4s 5ms/step - loss: 0.0234 - accuracy: 0.9923 - val_loss: 0.0411 - val_accuracy: 0.9885\n",
            "Epoch 7/10\n",
            "938/938 [==============================] - 5s 6ms/step - loss: 0.0189 - accuracy: 0.9936 - val_loss: 0.0307 - val_accuracy: 0.9904\n",
            "Epoch 8/10\n",
            "938/938 [==============================] - 5s 5ms/step - loss: 0.0166 - accuracy: 0.9946 - val_loss: 0.0304 - val_accuracy: 0.9904\n",
            "Epoch 9/10\n",
            "938/938 [==============================] - 5s 5ms/step - loss: 0.0153 - accuracy: 0.9948 - val_loss: 0.0324 - val_accuracy: 0.9910\n",
            "Epoch 10/10\n",
            "938/938 [==============================] - 5s 5ms/step - loss: 0.0112 - accuracy: 0.9962 - val_loss: 0.0303 - val_accuracy: 0.9912\n"
          ]
        }
      ]
    },
    {
      "cell_type": "code",
      "source": [],
      "metadata": {
        "id": "B0YuxfT8nMB2"
      },
      "execution_count": 13,
      "outputs": []
    }
  ]
}